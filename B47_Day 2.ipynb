{
 "cells": [
  {
   "cell_type": "code",
   "execution_count": null,
   "id": "863ab101",
   "metadata": {},
   "outputs": [],
   "source": [
    "Introduction to the variables in Python:"
   ]
  },
  {
   "cell_type": "code",
   "execution_count": 5,
   "id": "0ab3be00",
   "metadata": {},
   "outputs": [],
   "source": [
    "x = 5\n",
    "y = 3"
   ]
  },
  {
   "cell_type": "code",
   "execution_count": 6,
   "id": "d842c434",
   "metadata": {},
   "outputs": [
    {
     "data": {
      "text/plain": [
       "8"
      ]
     },
     "execution_count": 6,
     "metadata": {},
     "output_type": "execute_result"
    }
   ],
   "source": [
    "x + y"
   ]
  },
  {
   "cell_type": "code",
   "execution_count": null,
   "id": "fbfb6de0",
   "metadata": {},
   "outputs": [],
   "source": [
    "Overview : Variables are nothing but the placeholder that we are assigning the values to it\n",
    "    "
   ]
  },
  {
   "cell_type": "code",
   "execution_count": null,
   "id": "bd1abd2f",
   "metadata": {},
   "outputs": [],
   "source": []
  },
  {
   "cell_type": "code",
   "execution_count": null,
   "id": "f8f4b84a",
   "metadata": {},
   "outputs": [],
   "source": [
    "Rules for declaring the variables in python :"
   ]
  },
  {
   "cell_type": "code",
   "execution_count": null,
   "id": "34da7b17",
   "metadata": {},
   "outputs": [],
   "source": [
    "Rule No 1  : A variable should not contain any name spaces while declaring it"
   ]
  },
  {
   "cell_type": "code",
   "execution_count": null,
   "id": "25db53b1",
   "metadata": {},
   "outputs": [],
   "source": []
  },
  {
   "cell_type": "code",
   "execution_count": 7,
   "id": "6cc4d850",
   "metadata": {},
   "outputs": [
    {
     "ename": "SyntaxError",
     "evalue": "invalid syntax (<ipython-input-7-ee16bc2e6d36>, line 1)",
     "output_type": "error",
     "traceback": [
      "\u001b[1;36m  File \u001b[1;32m\"<ipython-input-7-ee16bc2e6d36>\"\u001b[1;36m, line \u001b[1;32m1\u001b[0m\n\u001b[1;33m    first name = \"Faiyaz\"\u001b[0m\n\u001b[1;37m          ^\u001b[0m\n\u001b[1;31mSyntaxError\u001b[0m\u001b[1;31m:\u001b[0m invalid syntax\n"
     ]
    }
   ],
   "source": [
    "first name = \"Faiyaz\"\n",
    "print (first name)"
   ]
  },
  {
   "cell_type": "code",
   "execution_count": 8,
   "id": "3deb995b",
   "metadata": {},
   "outputs": [
    {
     "name": "stdout",
     "output_type": "stream",
     "text": [
      "Faiyaz\n"
     ]
    }
   ],
   "source": [
    "name = \"Faiyaz\"\n",
    "print (name)"
   ]
  },
  {
   "cell_type": "code",
   "execution_count": null,
   "id": "db2def69",
   "metadata": {},
   "outputs": [],
   "source": []
  },
  {
   "cell_type": "code",
   "execution_count": null,
   "id": "1afae40c",
   "metadata": {},
   "outputs": [],
   "source": [
    "Rule No 2  : A variable name should not start with a number."
   ]
  },
  {
   "cell_type": "code",
   "execution_count": 9,
   "id": "a88d3ef5",
   "metadata": {},
   "outputs": [
    {
     "ename": "SyntaxError",
     "evalue": "invalid syntax (<ipython-input-9-063c9ba4d7e4>, line 1)",
     "output_type": "error",
     "traceback": [
      "\u001b[1;36m  File \u001b[1;32m\"<ipython-input-9-063c9ba4d7e4>\"\u001b[1;36m, line \u001b[1;32m1\u001b[0m\n\u001b[1;33m    1name = \"Naveen\"\u001b[0m\n\u001b[1;37m     ^\u001b[0m\n\u001b[1;31mSyntaxError\u001b[0m\u001b[1;31m:\u001b[0m invalid syntax\n"
     ]
    }
   ],
   "source": [
    "1name = \"Naveen\"\n",
    "print (1name)"
   ]
  },
  {
   "cell_type": "code",
   "execution_count": 10,
   "id": "6157c68c",
   "metadata": {},
   "outputs": [
    {
     "name": "stdout",
     "output_type": "stream",
     "text": [
      "Naveen\n"
     ]
    }
   ],
   "source": [
    "name1 = 'Naveen'\n",
    "print (name1)"
   ]
  },
  {
   "cell_type": "code",
   "execution_count": null,
   "id": "92d1b647",
   "metadata": {},
   "outputs": [],
   "source": []
  },
  {
   "cell_type": "code",
   "execution_count": null,
   "id": "cfb800f5",
   "metadata": {},
   "outputs": [],
   "source": [
    "Rule No 3  : A variable name should not contain any special characters.\n",
    "    \n",
    "    @,$,&,% =======> all are special characters"
   ]
  },
  {
   "cell_type": "code",
   "execution_count": 11,
   "id": "0234a65f",
   "metadata": {},
   "outputs": [
    {
     "ename": "SyntaxError",
     "evalue": "invalid syntax (<ipython-input-11-2f6703be4037>, line 1)",
     "output_type": "error",
     "traceback": [
      "\u001b[1;36m  File \u001b[1;32m\"<ipython-input-11-2f6703be4037>\"\u001b[1;36m, line \u001b[1;32m1\u001b[0m\n\u001b[1;33m    name@ = 'david'\u001b[0m\n\u001b[1;37m          ^\u001b[0m\n\u001b[1;31mSyntaxError\u001b[0m\u001b[1;31m:\u001b[0m invalid syntax\n"
     ]
    }
   ],
   "source": [
    "name@ = 'david'\n",
    "print(name@)"
   ]
  },
  {
   "cell_type": "code",
   "execution_count": null,
   "id": "0e249acc",
   "metadata": {},
   "outputs": [],
   "source": [
    "Introduction to Datatypes in Python :\n",
    "    \n",
    "    1.string -----> str\n",
    "    2.Numbers ----> integers (int) and floats (decimals)t\n",
    "    3.list -------> list\n",
    "    4.Dictinaries ----> dict"
   ]
  },
  {
   "cell_type": "code",
   "execution_count": null,
   "id": "2f0a67a9",
   "metadata": {},
   "outputs": [],
   "source": []
  },
  {
   "cell_type": "code",
   "execution_count": null,
   "id": "e4d4a699",
   "metadata": {},
   "outputs": [],
   "source": [
    "classification of datatypes :\n",
    "    \n",
    "    Datatypes are broadly classified into 2 categeories:\n",
    "        \n",
    "        1.mutable datatypes ------> we can edit or alter the data ---->(flexible)\n",
    "        2.Immutable datatypes-----> we cannot able to edit or alter the data ---->(fixed)\n",
    "    \n",
    "    "
   ]
  },
  {
   "cell_type": "code",
   "execution_count": null,
   "id": "1dafdb6d",
   "metadata": {},
   "outputs": [],
   "source": [
    "Strings"
   ]
  },
  {
   "cell_type": "code",
   "execution_count": null,
   "id": "0c5ac20e",
   "metadata": {},
   "outputs": [],
   "source": [
    "classification : It is an Immutable datatype\n",
    "    \n",
    "how to define a string ------?\n",
    "\n",
    "3 possible combinations ====>\n",
    "\n",
    "1. single quotes  -----> ''\n",
    "2. double quotes  -----> \"\"\n",
    "3. single quotes  ----->\"\"\" \"\"\"\n"
   ]
  },
  {
   "cell_type": "code",
   "execution_count": 12,
   "id": "5f28e099",
   "metadata": {},
   "outputs": [
    {
     "name": "stdout",
     "output_type": "stream",
     "text": [
      "Akhil\n"
     ]
    }
   ],
   "source": [
    "name = 'Akhil'   #single quote\n",
    "print(name)"
   ]
  },
  {
   "cell_type": "code",
   "execution_count": 15,
   "id": "196da4b8",
   "metadata": {},
   "outputs": [
    {
     "name": "stdout",
     "output_type": "stream",
     "text": [
      "Farhan\n"
     ]
    }
   ],
   "source": [
    "name2 = \"Farhan\"   #double quote\n",
    "print(name2)"
   ]
  },
  {
   "cell_type": "code",
   "execution_count": 16,
   "id": "dc25328d",
   "metadata": {},
   "outputs": [
    {
     "name": "stdout",
     "output_type": "stream",
     "text": [
      "Kumar\n"
     ]
    }
   ],
   "source": [
    "name3 = \"\"\"Kumar\"\"\"   #Triple quote\n",
    "print(name3)"
   ]
  },
  {
   "cell_type": "code",
   "execution_count": null,
   "id": "3b7c41f9",
   "metadata": {},
   "outputs": [],
   "source": [
    "Introduction to String methods :\n",
    "    "
   ]
  },
  {
   "cell_type": "code",
   "execution_count": null,
   "id": "41a010f1",
   "metadata": {},
   "outputs": [],
   "source": [
    "Overview : methods are builtin program in python."
   ]
  },
  {
   "cell_type": "code",
   "execution_count": null,
   "id": "388ed530",
   "metadata": {},
   "outputs": [],
   "source": [
    "type -----> It is used for confirming the datatype ...."
   ]
  },
  {
   "cell_type": "code",
   "execution_count": 17,
   "id": "e9496eeb",
   "metadata": {},
   "outputs": [
    {
     "data": {
      "text/plain": [
       "str"
      ]
     },
     "execution_count": 17,
     "metadata": {},
     "output_type": "execute_result"
    }
   ],
   "source": [
    "type (name)"
   ]
  },
  {
   "cell_type": "code",
   "execution_count": 18,
   "id": "46ab3006",
   "metadata": {},
   "outputs": [
    {
     "data": {
      "text/plain": [
       "str"
      ]
     },
     "execution_count": 18,
     "metadata": {},
     "output_type": "execute_result"
    }
   ],
   "source": [
    "type (name2)"
   ]
  },
  {
   "cell_type": "code",
   "execution_count": 19,
   "id": "7f735ffe",
   "metadata": {},
   "outputs": [
    {
     "data": {
      "text/plain": [
       "str"
      ]
     },
     "execution_count": 19,
     "metadata": {},
     "output_type": "execute_result"
    }
   ],
   "source": [
    "type (name3)"
   ]
  },
  {
   "cell_type": "code",
   "execution_count": null,
   "id": "cec67dd4",
   "metadata": {},
   "outputs": [],
   "source": []
  },
  {
   "cell_type": "code",
   "execution_count": null,
   "id": "d3d8f066",
   "metadata": {},
   "outputs": [],
   "source": []
  },
  {
   "cell_type": "code",
   "execution_count": null,
   "id": "c8b6a4a1",
   "metadata": {},
   "outputs": [],
   "source": []
  }
 ],
 "metadata": {
  "kernelspec": {
   "display_name": "Python 3",
   "language": "python",
   "name": "python3"
  },
  "language_info": {
   "codemirror_mode": {
    "name": "ipython",
    "version": 3
   },
   "file_extension": ".py",
   "mimetype": "text/x-python",
   "name": "python",
   "nbconvert_exporter": "python",
   "pygments_lexer": "ipython3",
   "version": "3.8.8"
  }
 },
 "nbformat": 4,
 "nbformat_minor": 5
}
